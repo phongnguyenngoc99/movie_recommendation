{
 "cells": [
  {
   "cell_type": "code",
   "execution_count": 33,
   "metadata": {},
   "outputs": [],
   "source": [
    "import flask\n",
    "import csv\n",
    "import difflib\n",
    "import pandas as pd\n",
    "from sklearn.feature_extraction.text import CountVectorizer\n",
    "from sklearn.metrics.pairwise import cosine_similarity\n"
   ]
  },
  {
   "cell_type": "code",
   "execution_count": 40,
   "metadata": {},
   "outputs": [
    {
     "name": "stderr",
     "output_type": "stream",
     "text": [
      "C:\\Users\\ADMIN\\anaconda3\\lib\\site-packages\\IPython\\core\\interactiveshell.py:3063: DtypeWarning: Columns (0,1,4,9,13,14,19,20,27,28,29,30,31,32,33,34,35,36,37,38,39,40,41,42,43,44,45,46,47,48,49,50,51,52,53,54,55,56,57,58,59,60,61,62,63,64,65,66,67,68,69,70,71,72,73,74,75,76,77,78,79,80,81,82,83,84,85,86,87,88,89,90,91,92,93,94,95,96,97,98,99,100,101,102,103,104,105,106,107,108,109,110,111,112,113,114,115,116,117,118,119,120,121,122,123,124,125,126,127,128,129,130,131,132,133,134,135,136,137,138,139,140,141,142,143,144,145,146,147,148,149,150,151,152,153,154,155,156,157,158,159,160,161,162,163,164,165,166,167,168,169,170,171,172,173,174,175,176,177,178,179,180,181,182,183,184,185,186,187,188,189,190,191,192,193,194,195,196,197,198,199,200,201,202,203,204,205,206,207,208,209,210,211,212,213,214,215,216,217,218,219,220,221,222,223,224,225,226,227,228,229,230,231,232,233,234,235,236,237,238,239,240,241,242,243,244,245,246,247,248,249,250,251,252,253,254,255,256,257,258,259,260,261,262,263,264,265,266,267,268,269,270,271,272,273,274,275,276,277,278,279,280,281,282,283,284,285,286,287,288,289,290,291,292,293,294,295,296,297,298,299,300,301,302,303,304,305,306,307,308,309,310,311,312,313,314,315,316,317,318,319,320,321,322,323,324,325,326,327,328,329,330,331,332,333,334,335,336,337,338,339,340,341,342,343,344,345,346,347,348,349,350,351,352,353,354,355,356,357,358,359,360,361,362,363,364,365,366,367,368,369,370,371,372,373,374,375,376,377,378,379,380,381,382,383,384,385,386,387,388,389,390,391,392,393,394,395,396,397,398,399,400,401,402,403,404,405,406,407,408,409,410,411,412,413,414,415,416,417,418,419,420,421,422,423,424,425,426,427,428,429,430,431,432,433,434,435,436,437,438,439,440,441,442,443,444,445,446,447,448,449,450,451,452,453,454,455,456,457,458,459,460,461,462,463,464,465,466,467,468,469,470,471,472,473,474,475,476,477,478,479,480,481,482,483,484,485,486,487,488,489,490,491,492,493,494,495,496,497,498,499,500,501,502,503,504,505,506,507,508,509,510,511,512,513,514,515,516,517,518,519,520,521,522,523,524,525,526,527,528,529,530,531,532,533,534,535,536,537,538,539,540,541,542,543,544,545,546,547,548,549,550,551,552,553,554,555,556,557,558,559,560,561,562,563,564,565,566,567,568,569,570,571,572,573,574,575,576,577,578,579,580,581,582,583,584,585,586,587,588,589,590,591,592,593,594,595,596,597,598,599,600,601,602,603,604,605,606,607,608,609,610,611,612,613,614,615,616,617,618,619,620,621,622,623,624,625,626,627,628,629,630,631,632,633,634,635,636,637,638,639,640,641,642,643,644,645,646,647,648,649,650,651,652,653,654,655,656,657,658,659,660,661,662,663,664,665,666,667,668,669,670,671,672,673,674,675,676,677,678,679,680,681,682,683,684,685,686,687,688,689,690,691,692,693,694,695,696,697,698,699,700,701,702,703,704,705,706,707,708,709,710,711,712,713,714,715,716,717,718,719,720,721,722,723,724,725,726,727,728,729,730,731,732,733,734,735,736,737,738,739,740,741,742,743,744,745,746,747,748,749,750,751,752,753,754,755,756,757,758,759,760,761,762,763,764,765,766,767,768,769,770,771,772,773,774,775,776,777,778,779,780,781,782,783,784,785,786,787,788,789,790,791,792,793,794,795,796,797,798,799,800,801,802,803,804,805,806,807,808,809,810,811,812,813,814,815,816,817,818,819,820,821,822,823,824,825,826,827,828,829,830,831,832,833,834,835,836,837,838,839,840,841,842,843,844,845,846,847,848,849,850,851,852,853,854,855,856,857,858,859,860,861,862,863,864,865,866,867,868,869,870,871,872,873,874,875,876,877,878,879,880,881,882,883,884,885,886,887,888,889,890,891,892,893,894,895,896,897,898,899,900,901,902,903,904,905,906,907,908,909,910,911,912,913,914,915,916,917,918,919,920,921,922,923,924,925,926,927,928,929,930,931,932,933,934,935,936,937,938,939,940,941,942,943,944,945,946,947,948,949,950,951,952,953,954,955,956,957,958,959,960,961,962,963,964,965,966,967,968,969,970,971,972,973,974,975,976,977,978,979,980,981,982,983,984,985,986,987,988,989,990,991,992,993,994,995,996,997,998,999,1000,1001,1002,1003,1004,1005,1006,1007,1008,1009,1010,1011,1012,1013,1014,1015,1016,1017,1018,1019,1020,1021,1022,1023,1024,1025,1026,1027,1028,1029,1030,1031,1032,1033,1034,1035,1036,1037,1038,1039,1040,1041,1042,1043,1044,1045,1046,1047,1048,1049,1050,1051,1052,1053,1054,1055,1056,1057,1058,1059,1060,1061,1062,1063,1064,1065,1066,1067,1068,1069,1070,1071,1072,1073,1074,1075,1076,1077,1078,1079,1080,1081,1082,1083,1084,1085,1086,1087,1088,1089,1090,1091,1092,1093,1094,1095,1096,1097,1098,1099,1100,1101,1102,1103,1104,1105,1106,1107,1108,1109,1110,1111,1112,1113,1114,1115,1116,1117,1118,1119,1120,1121,1122,1123,1124,1125,1126,1127,1128,1129,1130,1131,1132,1133,1134,1135,1136,1137,1138,1139,1140,1141,1142,1143,1144,1145,1146,1147,1148,1149,1150,1151,1152,1153,1154,1155,1156,1157,1158,1159,1160,1161,1162,1163,1164,1165,1166,1167,1168,1169,1170,1171,1172,1173,1174,1175,1176,1177,1178,1179,1180,1181,1182,1183,1184,1185,1186,1187,1188,1189,1190,1191,1192,1193,1194,1195,1196,1197,1198,1199,1200,1201,1202,1203,1204,1205,1206,1207,1208,1209,1210,1211,1212,1213,1214,1215,1216,1217,1218,1219,1220,1221,1222,1223,1224,1225,1226,1227,1228,1229,1230,1231,1232,1233,1234,1235,1236,1237,1238,1239,1240,1241,1242,1243,1244,1245,1246,1247,1248,1249,1250,1251,1252,1253,1254,1255,1256,1257,1258,1259,1260,1261,1262,1263,1264,1265) have mixed types.Specify dtype option on import or set low_memory=False.\n",
      "  interactivity=interactivity, compiler=compiler, result=result)\n"
     ]
    }
   ],
   "source": [
    "df2 = pd.read_csv('./model/tmdb1.csv', sep=',', dtype={'a': str})"
   ]
  },
  {
   "cell_type": "code",
   "execution_count": 41,
   "metadata": {},
   "outputs": [
    {
     "data": {
      "text/plain": [
       "(4828, 1266)"
      ]
     },
     "execution_count": 41,
     "metadata": {},
     "output_type": "execute_result"
    }
   ],
   "source": [
    "df2.shape"
   ]
  },
  {
   "cell_type": "code",
   "execution_count": 42,
   "metadata": {},
   "outputs": [
    {
     "data": {
      "text/html": [
       "<div>\n",
       "<style scoped>\n",
       "    .dataframe tbody tr th:only-of-type {\n",
       "        vertical-align: middle;\n",
       "    }\n",
       "\n",
       "    .dataframe tbody tr th {\n",
       "        vertical-align: top;\n",
       "    }\n",
       "\n",
       "    .dataframe thead th {\n",
       "        text-align: right;\n",
       "    }\n",
       "</style>\n",
       "<table border=\"1\" class=\"dataframe\">\n",
       "  <thead>\n",
       "    <tr style=\"text-align: right;\">\n",
       "      <th></th>\n",
       "      <th>stt</th>\n",
       "      <th>budget</th>\n",
       "      <th>id</th>\n",
       "      <th>title</th>\n",
       "      <th>genres</th>\n",
       "      <th>director</th>\n",
       "      <th>cast</th>\n",
       "      <th>soup</th>\n",
       "      <th>poster</th>\n",
       "    </tr>\n",
       "  </thead>\n",
       "  <tbody>\n",
       "    <tr>\n",
       "      <th>0</th>\n",
       "      <td>0</td>\n",
       "      <td>237000000</td>\n",
       "      <td>19995</td>\n",
       "      <td>Avatar</td>\n",
       "      <td>['action', 'adventure', 'fantasy']</td>\n",
       "      <td>jamescameron</td>\n",
       "      <td>['samworthington', 'zoesaldana', 'sigourneywea...</td>\n",
       "      <td>cultureclash future spacewar samworthington zo...</td>\n",
       "      <td>https://encrypted-tbn0.gstatic.com/images?q=tb...</td>\n",
       "    </tr>\n",
       "    <tr>\n",
       "      <th>1</th>\n",
       "      <td>1</td>\n",
       "      <td>300000000</td>\n",
       "      <td>285</td>\n",
       "      <td>Pirates of the Caribbean: At World's End</td>\n",
       "      <td>['adventure', 'fantasy', 'action']</td>\n",
       "      <td>goreverbinski</td>\n",
       "      <td>['johnnydepp', 'orlandobloom', 'keiraknightley']</td>\n",
       "      <td>ocean drugabuse exoticisland johnnydepp orland...</td>\n",
       "      <td>https://huachangmusic.com/wp-content/uploads/2...</td>\n",
       "    </tr>\n",
       "    <tr>\n",
       "      <th>2</th>\n",
       "      <td>2</td>\n",
       "      <td>245000000</td>\n",
       "      <td>206647</td>\n",
       "      <td>Spectre</td>\n",
       "      <td>['action', 'adventure', 'crime']</td>\n",
       "      <td>sammendes</td>\n",
       "      <td>['danielcraig', 'christophwaltz', 'léaseydoux']</td>\n",
       "      <td>spy basedonnovel secretagent danielcraig chris...</td>\n",
       "      <td>https://uehenter.com/wp-content/uploads/film2.jpg</td>\n",
       "    </tr>\n",
       "    <tr>\n",
       "      <th>3</th>\n",
       "      <td>3</td>\n",
       "      <td>250000000</td>\n",
       "      <td>49026</td>\n",
       "      <td>The Dark Knight Rises</td>\n",
       "      <td>['action', 'crime', 'drama']</td>\n",
       "      <td>christophernolan</td>\n",
       "      <td>['christianbale', 'michaelcaine', 'garyoldman']</td>\n",
       "      <td>dccomics crimefighter terrorist christianbale ...</td>\n",
       "      <td>https://is2-ssl.mzstatic.com/image/thumb/Video...</td>\n",
       "    </tr>\n",
       "    <tr>\n",
       "      <th>4</th>\n",
       "      <td>4</td>\n",
       "      <td>260000000</td>\n",
       "      <td>49529</td>\n",
       "      <td>John Carter</td>\n",
       "      <td>['action', 'adventure', 'sciencefiction']</td>\n",
       "      <td>andrewstanton</td>\n",
       "      <td>['taylorkitsch', 'lynncollins', 'samanthamorton']</td>\n",
       "      <td>basedonnovel mars medallion taylorkitsch lynnc...</td>\n",
       "      <td>data:image/jpeg;base64,/9j/4AAQSkZJRgABAQAAAQA...</td>\n",
       "    </tr>\n",
       "  </tbody>\n",
       "</table>\n",
       "</div>"
      ],
      "text/plain": [
       "  stt     budget      id                                     title  \\\n",
       "0   0  237000000   19995                                    Avatar   \n",
       "1   1  300000000     285  Pirates of the Caribbean: At World's End   \n",
       "2   2  245000000  206647                                   Spectre   \n",
       "3   3  250000000   49026                     The Dark Knight Rises   \n",
       "4   4  260000000   49529                               John Carter   \n",
       "\n",
       "                                      genres          director  \\\n",
       "0         ['action', 'adventure', 'fantasy']      jamescameron   \n",
       "1         ['adventure', 'fantasy', 'action']     goreverbinski   \n",
       "2           ['action', 'adventure', 'crime']         sammendes   \n",
       "3               ['action', 'crime', 'drama']  christophernolan   \n",
       "4  ['action', 'adventure', 'sciencefiction']     andrewstanton   \n",
       "\n",
       "                                                cast  \\\n",
       "0  ['samworthington', 'zoesaldana', 'sigourneywea...   \n",
       "1   ['johnnydepp', 'orlandobloom', 'keiraknightley']   \n",
       "2    ['danielcraig', 'christophwaltz', 'léaseydoux']   \n",
       "3    ['christianbale', 'michaelcaine', 'garyoldman']   \n",
       "4  ['taylorkitsch', 'lynncollins', 'samanthamorton']   \n",
       "\n",
       "                                                soup  \\\n",
       "0  cultureclash future spacewar samworthington zo...   \n",
       "1  ocean drugabuse exoticisland johnnydepp orland...   \n",
       "2  spy basedonnovel secretagent danielcraig chris...   \n",
       "3  dccomics crimefighter terrorist christianbale ...   \n",
       "4  basedonnovel mars medallion taylorkitsch lynnc...   \n",
       "\n",
       "                                              poster  \n",
       "0  https://encrypted-tbn0.gstatic.com/images?q=tb...  \n",
       "1  https://huachangmusic.com/wp-content/uploads/2...  \n",
       "2  https://uehenter.com/wp-content/uploads/film2.jpg  \n",
       "3  https://is2-ssl.mzstatic.com/image/thumb/Video...  \n",
       "4  data:image/jpeg;base64,/9j/4AAQSkZJRgABAQAAAQA...  "
      ]
     },
     "execution_count": 42,
     "metadata": {},
     "output_type": "execute_result"
    }
   ],
   "source": [
    "df2 = df2[['stt','budget', 'id','title','genres','director','cast', 'soup', 'poster']]\n",
    "df2.head()"
   ]
  },
  {
   "cell_type": "code",
   "execution_count": 43,
   "metadata": {},
   "outputs": [
    {
     "data": {
      "text/plain": [
       "(4828, 9)"
      ]
     },
     "execution_count": 43,
     "metadata": {},
     "output_type": "execute_result"
    }
   ],
   "source": [
    "df2.shape"
   ]
  },
  {
   "cell_type": "code",
   "execution_count": 44,
   "metadata": {},
   "outputs": [],
   "source": [
    "count = CountVectorizer(stop_words='english')\n",
    "count_matrix = count.fit_transform(df2['soup'].values.astype('U'))\n",
    "cosine_sim2 = cosine_similarity(count_matrix, count_matrix)"
   ]
  },
  {
   "cell_type": "code",
   "execution_count": 71,
   "metadata": {},
   "outputs": [
    {
     "data": {
      "text/plain": [
       "<4828x11523 sparse matrix of type '<class 'numpy.int64'>'\n",
       "\twith 42911 stored elements in Compressed Sparse Row format>"
      ]
     },
     "execution_count": 71,
     "metadata": {},
     "output_type": "execute_result"
    }
   ],
   "source": [
    "count_matrix\n"
   ]
  },
  {
   "cell_type": "code",
   "execution_count": 45,
   "metadata": {},
   "outputs": [],
   "source": [
    "df2 = df2.reset_index()\n",
    "indices1 = pd.Series(df2.index, index=df2['title'])\n",
    "indices2 = pd.Series(df2.index, index=df2['genres'])\n",
    "indices3 = pd.Series(df2.index, index=df2['director'])\n",
    "indices4 = pd.Series(df2.index, index=df2['cast'])"
   ]
  },
  {
   "cell_type": "code",
   "execution_count": 72,
   "metadata": {},
   "outputs": [
    {
     "data": {
      "text/plain": [
       "array([[1. , 0.3, 0.2, ..., 0. , 0. , 0. ],\n",
       "       [0.3, 1. , 0.2, ..., 0. , 0. , 0. ],\n",
       "       [0.2, 0.2, 1. , ..., 0. , 0. , 0. ],\n",
       "       ...,\n",
       "       [0. , 0. , 0. , ..., 1. , 0. , 0. ],\n",
       "       [0. , 0. , 0. , ..., 0. , 1. , 0. ],\n",
       "       [0. , 0. , 0. , ..., 0. , 0. , 1. ]])"
      ]
     },
     "execution_count": 72,
     "metadata": {},
     "output_type": "execute_result"
    }
   ],
   "source": [
    "cosine_sim = cosine_similarity(count_matrix, count_matrix)\n",
    "cosine_sim"
   ]
  },
  {
   "cell_type": "code",
   "execution_count": 47,
   "metadata": {},
   "outputs": [],
   "source": [
    "idx1 = indices1['The Chronicles of Narnia: Prince Caspian']\n",
    "idx2 = indices2[\"['action', 'adventure', 'fantasy']\"]\n",
    "idx3 = indices3['bryansinger']\n",
    "idx4 = indices4[\"['samworthington', 'zoesaldana', 'sigourneyweaver']\"]"
   ]
  },
  {
   "cell_type": "code",
   "execution_count": 48,
   "metadata": {},
   "outputs": [
    {
     "data": {
      "text/plain": [
       "bryansinger      10\n",
       "bryansinger      50\n",
       "bryansinger      52\n",
       "bryansinger      68\n",
       "bryansinger     207\n",
       "bryansinger     376\n",
       "bryansinger     531\n",
       "bryansinger    3479\n",
       "dtype: int64"
      ]
     },
     "execution_count": 48,
     "metadata": {},
     "output_type": "execute_result"
    }
   ],
   "source": [
    "idx3"
   ]
  },
  {
   "cell_type": "code",
   "execution_count": 49,
   "metadata": {},
   "outputs": [
    {
     "data": {
      "text/plain": [
       "15"
      ]
     },
     "execution_count": 49,
     "metadata": {},
     "output_type": "execute_result"
    }
   ],
   "source": [
    "idx1"
   ]
  },
  {
   "cell_type": "code",
   "execution_count": 50,
   "metadata": {},
   "outputs": [
    {
     "data": {
      "text/plain": [
       "0"
      ]
     },
     "execution_count": 50,
     "metadata": {},
     "output_type": "execute_result"
    }
   ],
   "source": [
    "idx4"
   ]
  },
  {
   "cell_type": "code",
   "execution_count": 51,
   "metadata": {},
   "outputs": [
    {
     "data": {
      "text/plain": [
       "['action', 'adventure', 'fantasy']       0\n",
       "['action', 'adventure', 'fantasy']       9\n",
       "['action', 'adventure', 'fantasy']      14\n",
       "['action', 'adventure', 'fantasy']      19\n",
       "['action', 'adventure', 'fantasy']      20\n",
       "['action', 'adventure', 'fantasy']      34\n",
       "['action', 'adventure', 'fantasy']      42\n",
       "['action', 'adventure', 'fantasy']      50\n",
       "['action', 'adventure', 'fantasy']     111\n",
       "['action', 'adventure', 'fantasy']     130\n",
       "['action', 'adventure', 'fantasy']     385\n",
       "['action', 'adventure', 'fantasy']     647\n",
       "['action', 'adventure', 'fantasy']     806\n",
       "['action', 'adventure', 'fantasy']     833\n",
       "['action', 'adventure', 'fantasy']     856\n",
       "['action', 'adventure', 'fantasy']     890\n",
       "['action', 'adventure', 'fantasy']    1217\n",
       "['action', 'adventure', 'fantasy']    1677\n",
       "['action', 'adventure', 'fantasy']    1964\n",
       "['action', 'adventure', 'fantasy']    2188\n",
       "['action', 'adventure', 'fantasy']    2680\n",
       "['action', 'adventure', 'fantasy']    3519\n",
       "dtype: int64"
      ]
     },
     "execution_count": 51,
     "metadata": {},
     "output_type": "execute_result"
    }
   ],
   "source": [
    "idx2"
   ]
  },
  {
   "cell_type": "code",
   "execution_count": 52,
   "metadata": {},
   "outputs": [],
   "source": [
    "sim_scores1 = list(enumerate(cosine_sim[idx1]))\n",
    "sim_scores4 = list(enumerate(cosine_sim[idx4]))"
   ]
  },
  {
   "cell_type": "code",
   "execution_count": 53,
   "metadata": {},
   "outputs": [],
   "source": [
    "sim_scores2 = list(enumerate(cosine_sim[idx2][0]))"
   ]
  },
  {
   "cell_type": "code",
   "execution_count": 54,
   "metadata": {},
   "outputs": [],
   "source": [
    "sim_scores3 = list(enumerate(cosine_sim[idx3][0]))\n"
   ]
  },
  {
   "cell_type": "code",
   "execution_count": 55,
   "metadata": {},
   "outputs": [],
   "source": [
    "sim_scores1 = sorted(sim_scores1, key=lambda x: x[1], reverse=True)\n",
    "sim_scores2 = sorted(sim_scores2, key=lambda x: x[1], reverse=True)\n",
    "sim_scores3 = sorted(sim_scores3, key=lambda x: x[1], reverse=True)\n",
    "sim_scores4 = sorted(sim_scores4, key=lambda x: x[1], reverse=True)"
   ]
  },
  {
   "cell_type": "code",
   "execution_count": 56,
   "metadata": {},
   "outputs": [],
   "source": [
    "sim_scores1 = sim_scores1[1:11]\n",
    "sim_scores2 = sim_scores2[1:11]\n",
    "sim_scores3 = sim_scores3[1:11]\n",
    "sim_scores4 = sim_scores4[1:11]\n"
   ]
  },
  {
   "cell_type": "code",
   "execution_count": 57,
   "metadata": {},
   "outputs": [],
   "source": [
    "movie_indices = [i[0] for i in sim_scores1]\n",
    "tit1 = df2['title'].iloc[movie_indices]\n",
    "\n",
    "movie_indices = [i[0] for i in sim_scores2]\n",
    "tit2 = df2['title'].iloc[movie_indices]\n",
    "\n",
    "movie_indices = [i[0] for i in sim_scores3]\n",
    "tit3 = df2['title'].iloc[movie_indices]\n",
    "\n",
    "movie_indices = [i[0] for i in sim_scores4]\n",
    "tit4 = df2['title'].iloc[movie_indices]"
   ]
  },
  {
   "cell_type": "code",
   "execution_count": 69,
   "metadata": {},
   "outputs": [
    {
     "data": {
      "text/plain": [
       "67      The Chronicles of Narnia: The Lion, the Witch ...\n",
       "36                                    Alice in Wonderland\n",
       "113     The Chronicles of Narnia: The Voyage of the Da...\n",
       "179                                               The BFG\n",
       "1786                                The NeverEnding Story\n",
       "2024           The Adventurer: The Curse of the Midas Box\n",
       "4011                                     The Wizard of Oz\n",
       "352                             The Spiderwick Chronicles\n",
       "1347                                        City of Ember\n",
       "1331                          Dragon Nest: Warriors' Dawn\n",
       "210                                   Clash of the Titans\n",
       "75                  The Mummy: Tomb of the Dragon Emperor\n",
       "806                                     The Monkey King 2\n",
       "107                             The Sorcerer's Apprentice\n",
       "135                                               G-Force\n",
       "223                Fantastic 4: Rise of the Silver Surfer\n",
       "486                                      The Time Machine\n",
       "735                                     The Scorpion King\n",
       "1                Pirates of the Caribbean: At World's End\n",
       "5                                            Spider-Man 3\n",
       "14                                           Man of Steel\n",
       "833                                              Superman\n",
       "890                                           Superman II\n",
       "9                      Batman v Superman: Dawn of Justice\n",
       "50                             X-Men: Days of Future Past\n",
       "1321                                         Superman III\n",
       "1164                                    The Warrior's Way\n",
       "2458                     Superman IV: The Quest for Peace\n",
       "75                  The Mummy: Tomb of the Dragon Emperor\n",
       "806                                     The Monkey King 2\n",
       "210                                   Clash of the Titans\n",
       "75                  The Mummy: Tomb of the Dragon Emperor\n",
       "806                                     The Monkey King 2\n",
       "107                             The Sorcerer's Apprentice\n",
       "135                                               G-Force\n",
       "223                Fantastic 4: Rise of the Silver Surfer\n",
       "486                                      The Time Machine\n",
       "735                                     The Scorpion King\n",
       "1                Pirates of the Caribbean: At World's End\n",
       "5                                            Spider-Man 3\n",
       "Name: title, dtype: object"
      ]
     },
     "execution_count": 69,
     "metadata": {},
     "output_type": "execute_result"
    }
   ],
   "source": [
    "tit = tit1.append(tit2.append(tit3.append(tit4)))\n",
    "tit"
   ]
  },
  {
   "cell_type": "code",
   "execution_count": 58,
   "metadata": {},
   "outputs": [],
   "source": [
    "  ids = df2['stt'].iloc[movie_indices]"
   ]
  },
  {
   "cell_type": "code",
   "execution_count": 59,
   "metadata": {},
   "outputs": [
    {
     "data": {
      "text/plain": [
       "210    206\n",
       "75      71\n",
       "806    786\n",
       "107    103\n",
       "135    131\n",
       "223    215\n",
       "486    466\n",
       "735    715\n",
       "1        1\n",
       "5        5\n",
       "Name: stt, dtype: object"
      ]
     },
     "execution_count": 59,
     "metadata": {},
     "output_type": "execute_result"
    }
   ],
   "source": [
    "ids"
   ]
  },
  {
   "cell_type": "code",
   "execution_count": null,
   "metadata": {},
   "outputs": [],
   "source": []
  },
  {
   "cell_type": "code",
   "execution_count": null,
   "metadata": {},
   "outputs": [],
   "source": []
  }
 ],
 "metadata": {
  "kernelspec": {
   "display_name": "Python 3",
   "language": "python",
   "name": "python3"
  },
  "language_info": {
   "codemirror_mode": {
    "name": "ipython",
    "version": 3
   },
   "file_extension": ".py",
   "mimetype": "text/x-python",
   "name": "python",
   "nbconvert_exporter": "python",
   "pygments_lexer": "ipython3",
   "version": "3.7.6"
  }
 },
 "nbformat": 4,
 "nbformat_minor": 4
}
